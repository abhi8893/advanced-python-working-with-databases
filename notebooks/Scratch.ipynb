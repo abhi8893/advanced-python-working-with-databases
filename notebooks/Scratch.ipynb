{
 "cells": [
  {
   "cell_type": "code",
   "execution_count": 1,
   "id": "4638d87b",
   "metadata": {},
   "outputs": [
    {
     "data": {
      "text/plain": [
       "'3.9.7 | packaged by conda-forge | (default, Sep 29 2021, 19:24:02) \\n[Clang 11.1.0 ]'"
      ]
     },
     "execution_count": 1,
     "metadata": {},
     "output_type": "execute_result"
    }
   ],
   "source": [
    "import sys\n",
    "sys.version"
   ]
  },
  {
   "cell_type": "code",
   "execution_count": 2,
   "id": "1eff4306",
   "metadata": {},
   "outputs": [],
   "source": [
    "import sqlite3\n",
    "\n",
    "connection = sqlite3.connect('../data/movies.db')\n",
    "cursor = connection.cursor()"
   ]
  },
  {
   "cell_type": "code",
   "execution_count": 4,
   "id": "957c7175",
   "metadata": {},
   "outputs": [
    {
     "name": "stdout",
     "output_type": "stream",
     "text": [
      "('Pulp Fiction', 'Quentin Tarantino', 1994)\n",
      "('Back to the Future', 'Steven Spielberg', 1985)\n",
      "('Moonrise Kingdom', 'Wes Anderson', 2012)\n"
     ]
    }
   ],
   "source": [
    "records = cursor.execute('SELECT * FROM movies;')\n",
    "for record in records:\n",
    "    print(record)"
   ]
  },
  {
   "cell_type": "code",
   "execution_count": 6,
   "id": "e055f24d",
   "metadata": {},
   "outputs": [
    {
     "data": {
      "text/plain": [
       "[('Pulp Fiction', 'Quentin Tarantino', 1994),\n",
       " ('Back to the Future', 'Steven Spielberg', 1985),\n",
       " ('Moonrise Kingdom', 'Wes Anderson', 2012)]"
      ]
     },
     "execution_count": 6,
     "metadata": {},
     "output_type": "execute_result"
    }
   ],
   "source": [
    "cursor.execute('SELECT * FROM movies;')\n",
    "cursor.fetchall()"
   ]
  },
  {
   "cell_type": "code",
   "execution_count": 8,
   "id": "f6779bf7",
   "metadata": {},
   "outputs": [
    {
     "data": {
      "text/plain": [
       "[('Back to the Future', 'Steven Spielberg', 1985)]"
      ]
     },
     "execution_count": 8,
     "metadata": {},
     "output_type": "execute_result"
    }
   ],
   "source": [
    "cursor.execute('SELECT * FROM movies WHERE title LIKE \"B%\"')\n",
    "cursor.fetchall()"
   ]
  },
  {
   "cell_type": "code",
   "execution_count": 37,
   "id": "d0f1b3e2",
   "metadata": {},
   "outputs": [],
   "source": [
    "import sqlalchemy as db\n",
    "from pathlib import Path\n",
    "\n",
    "db_path = Path(os.path.abspath('.')).parents[0].absolute().joinpath('data/movies.db')\n",
    "engine = db.create_engine(f'sqlite:///{db_path}')\n",
    "connection = engine.connect()"
   ]
  },
  {
   "cell_type": "code",
   "execution_count": 42,
   "id": "09af83e7",
   "metadata": {},
   "outputs": [],
   "source": [
    "metadata = db.MetaData()\n",
    "movies = db.Table('movies', metadata, autoload=True, autoload_with=engine)"
   ]
  },
  {
   "cell_type": "code",
   "execution_count": 43,
   "id": "1aff3781",
   "metadata": {},
   "outputs": [
    {
     "data": {
      "text/plain": [
       "MetaData()"
      ]
     },
     "execution_count": 43,
     "metadata": {},
     "output_type": "execute_result"
    }
   ],
   "source": [
    "metadata"
   ]
  },
  {
   "cell_type": "code",
   "execution_count": 44,
   "id": "624395f7",
   "metadata": {},
   "outputs": [
    {
     "data": {
      "text/plain": [
       "Table('movies', MetaData(), Column('title', TEXT(), table=<movies>), Column('director', TEXT(), table=<movies>), Column('year', INTEGER(), table=<movies>), schema=None)"
      ]
     },
     "execution_count": 44,
     "metadata": {},
     "output_type": "execute_result"
    }
   ],
   "source": [
    "movies"
   ]
  },
  {
   "cell_type": "code",
   "execution_count": 45,
   "id": "59819fd8",
   "metadata": {},
   "outputs": [],
   "source": [
    "query = db.select([movies])"
   ]
  },
  {
   "cell_type": "code",
   "execution_count": 48,
   "id": "78d4ed1c",
   "metadata": {},
   "outputs": [],
   "source": [
    "result_proxy = connection.execute(query)\n",
    "result_set = result_proxy.fetchall()"
   ]
  },
  {
   "cell_type": "code",
   "execution_count": 49,
   "id": "6d149453",
   "metadata": {},
   "outputs": [
    {
     "data": {
      "text/plain": [
       "[('Pulp Fiction', 'Quentin Tarantino', 1994),\n",
       " ('Back to the Future', 'Steven Spielberg', 1985),\n",
       " ('Moonrise Kingdom', 'Wes Anderson', 2012)]"
      ]
     },
     "execution_count": 49,
     "metadata": {},
     "output_type": "execute_result"
    }
   ],
   "source": [
    "result_set"
   ]
  },
  {
   "cell_type": "code",
   "execution_count": 54,
   "id": "c0d822fd",
   "metadata": {},
   "outputs": [
    {
     "data": {
      "text/plain": [
       "[('Back to the Future', 'Steven Spielberg', 1985)]"
      ]
     },
     "execution_count": 54,
     "metadata": {},
     "output_type": "execute_result"
    }
   ],
   "source": [
    "query = db.select([movies]).where(movies.columns.director == 'Steven Spielberg')\n",
    "result_proxy = connection.execute(query)\n",
    "result_set = result_proxy.fetchall()\n",
    "result_set"
   ]
  },
  {
   "cell_type": "code",
   "execution_count": 80,
   "id": "e7de708b",
   "metadata": {},
   "outputs": [
    {
     "data": {
      "text/plain": [
       "<sqlalchemy.engine.cursor.LegacyCursorResult at 0x10d7b0a90>"
      ]
     },
     "execution_count": 80,
     "metadata": {},
     "output_type": "execute_result"
    }
   ],
   "source": [
    "query = movies.insert().values(title='Psycho', director='Alfred Hitchcock', year=1960)\n",
    "connection.execute(query)"
   ]
  },
  {
   "cell_type": "code",
   "execution_count": 81,
   "id": "f5e48d4e",
   "metadata": {},
   "outputs": [
    {
     "data": {
      "text/plain": [
       "[('Pulp Fiction', 'Quentin Tarantino', 1994),\n",
       " ('Back to the Future', 'Steven Spielberg', 1985),\n",
       " ('Moonrise Kingdom', 'Wes Anderson', 2012),\n",
       " ('Psycho', 'Alfred Hitchcock', 1960)]"
      ]
     },
     "execution_count": 81,
     "metadata": {},
     "output_type": "execute_result"
    }
   ],
   "source": [
    "query = db.select(movies)\n",
    "result_proxy = connection.execute(query)\n",
    "result_set = result_proxy.fetchall()\n",
    "result_set"
   ]
  },
  {
   "cell_type": "code",
   "execution_count": 82,
   "id": "8071d5e8",
   "metadata": {},
   "outputs": [
    {
     "data": {
      "text/plain": [
       "Column('director', TEXT(), table=<movies>)"
      ]
     },
     "execution_count": 82,
     "metadata": {},
     "output_type": "execute_result"
    }
   ],
   "source": [
    "movies.columns.director"
   ]
  },
  {
   "cell_type": "code",
   "execution_count": 86,
   "id": "d4080eeb",
   "metadata": {},
   "outputs": [
    {
     "data": {
      "text/plain": [
       "<sqlalchemy.engine.cursor.LegacyCursorResult at 0x10d70e2b0>"
      ]
     },
     "execution_count": 86,
     "metadata": {},
     "output_type": "execute_result"
    }
   ],
   "source": [
    "query = db.delete(movies).where(movies.columns.title == 'Psycho')\n",
    "connection.execute(query)\n"
   ]
  },
  {
   "cell_type": "code",
   "execution_count": 87,
   "id": "a272d57d",
   "metadata": {},
   "outputs": [
    {
     "data": {
      "text/plain": [
       "[('Pulp Fiction', 'Quentin Tarantino', 1994),\n",
       " ('Back to the Future', 'Steven Spielberg', 1985),\n",
       " ('Moonrise Kingdom', 'Wes Anderson', 2012)]"
      ]
     },
     "execution_count": 87,
     "metadata": {},
     "output_type": "execute_result"
    }
   ],
   "source": [
    "query = db.select(movies)\n",
    "result_proxy = connection.execute(query)\n",
    "result_set = result_proxy.fetchall()\n",
    "result_set"
   ]
  },
  {
   "cell_type": "code",
   "execution_count": 89,
   "id": "d5afc47e",
   "metadata": {},
   "outputs": [
    {
     "data": {
      "text/plain": [
       "{}"
      ]
     },
     "execution_count": 89,
     "metadata": {},
     "output_type": "execute_result"
    }
   ],
   "source": [
    "metadata.info"
   ]
  },
  {
   "cell_type": "code",
   "execution_count": null,
   "id": "351b1155",
   "metadata": {},
   "outputs": [],
   "source": []
  }
 ],
 "metadata": {
  "kernelspec": {
   "display_name": "venv",
   "language": "python",
   "name": "venv"
  },
  "language_info": {
   "codemirror_mode": {
    "name": "ipython",
    "version": 3
   },
   "file_extension": ".py",
   "mimetype": "text/x-python",
   "name": "python",
   "nbconvert_exporter": "python",
   "pygments_lexer": "ipython3",
   "version": "3.9.7"
  }
 },
 "nbformat": 4,
 "nbformat_minor": 5
}
