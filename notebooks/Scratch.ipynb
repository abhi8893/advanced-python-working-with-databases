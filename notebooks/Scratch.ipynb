{
 "cells": [
  {
   "cell_type": "code",
   "execution_count": 1,
   "id": "4638d87b",
   "metadata": {},
   "outputs": [
    {
     "data": {
      "text/plain": [
       "'3.9.7 | packaged by conda-forge | (default, Sep 29 2021, 19:24:02) \\n[Clang 11.1.0 ]'"
      ]
     },
     "execution_count": 1,
     "metadata": {},
     "output_type": "execute_result"
    }
   ],
   "source": [
    "import sys\n",
    "sys.version"
   ]
  },
  {
   "cell_type": "code",
   "execution_count": 2,
   "id": "1eff4306",
   "metadata": {},
   "outputs": [],
   "source": [
    "import sqlite3\n",
    "\n",
    "connection = sqlite3.connect('../data/movies.db')\n",
    "cursor = connection.cursor()"
   ]
  },
  {
   "cell_type": "code",
   "execution_count": 4,
   "id": "957c7175",
   "metadata": {},
   "outputs": [
    {
     "name": "stdout",
     "output_type": "stream",
     "text": [
      "('Pulp Fiction', 'Quentin Tarantino', 1994)\n",
      "('Back to the Future', 'Steven Spielberg', 1985)\n",
      "('Moonrise Kingdom', 'Wes Anderson', 2012)\n"
     ]
    }
   ],
   "source": [
    "records = cursor.execute('SELECT * FROM movies;')\n",
    "for record in records:\n",
    "    print(record)"
   ]
  },
  {
   "cell_type": "code",
   "execution_count": 6,
   "id": "e055f24d",
   "metadata": {},
   "outputs": [
    {
     "data": {
      "text/plain": [
       "[('Pulp Fiction', 'Quentin Tarantino', 1994),\n",
       " ('Back to the Future', 'Steven Spielberg', 1985),\n",
       " ('Moonrise Kingdom', 'Wes Anderson', 2012)]"
      ]
     },
     "execution_count": 6,
     "metadata": {},
     "output_type": "execute_result"
    }
   ],
   "source": [
    "cursor.execute('SELECT * FROM movies;')\n",
    "cursor.fetchall()"
   ]
  },
  {
   "cell_type": "code",
   "execution_count": 8,
   "id": "8ff0b528",
   "metadata": {},
   "outputs": [
    {
     "data": {
      "text/plain": [
       "[('Back to the Future', 'Steven Spielberg', 1985)]"
      ]
     },
     "execution_count": 8,
     "metadata": {},
     "output_type": "execute_result"
    }
   ],
   "source": [
    "cursor.execute('SELECT * FROM movies WHERE title LIKE \"B%\"')\n",
    "cursor.fetchall()"
   ]
  },
  {
   "cell_type": "code",
   "execution_count": 37,
   "id": "d0f1b3e2",
   "metadata": {},
   "outputs": [],
   "source": [
    "import sqlalchemy as db\n",
    "from pathlib import Path\n",
    "\n",
    "db_path = Path(os.path.abspath('.')).parents[0].absolute().joinpath('data/movies.db')\n",
    "engine = db.create_engine(f'sqlite:///{db_path}')\n",
    "connection = engine.connect()"
   ]
  },
  {
   "cell_type": "code",
   "execution_count": 42,
   "id": "3db54bc4",
   "metadata": {},
   "outputs": [],
   "source": [
    "metadata = db.MetaData()\n",
    "movies = db.Table('movies', metadata, autoload=True, autoload_with=engine)"
   ]
  },
  {
   "cell_type": "code",
   "execution_count": 43,
   "id": "e7412cdf",
   "metadata": {},
   "outputs": [
    {
     "data": {
      "text/plain": [
       "MetaData()"
      ]
     },
     "execution_count": 43,
     "metadata": {},
     "output_type": "execute_result"
    }
   ],
   "source": [
    "metadata"
   ]
  },
  {
   "cell_type": "code",
   "execution_count": 44,
   "id": "d53aeb40",
   "metadata": {},
   "outputs": [
    {
     "data": {
      "text/plain": [
       "Table('movies', MetaData(), Column('title', TEXT(), table=<movies>), Column('director', TEXT(), table=<movies>), Column('year', INTEGER(), table=<movies>), schema=None)"
      ]
     },
     "execution_count": 44,
     "metadata": {},
     "output_type": "execute_result"
    }
   ],
   "source": [
    "movies"
   ]
  },
  {
   "cell_type": "code",
   "execution_count": 45,
   "id": "1ffc62f8",
   "metadata": {},
   "outputs": [],
   "source": [
    "query = db.select([movies])"
   ]
  },
  {
   "cell_type": "code",
   "execution_count": 48,
   "id": "19577d9c",
   "metadata": {},
   "outputs": [],
   "source": [
    "result_proxy = connection.execute(query)\n",
    "result_set = result_proxy.fetchall()"
   ]
  },
  {
   "cell_type": "code",
   "execution_count": 49,
   "id": "a5f3df3d",
   "metadata": {},
   "outputs": [
    {
     "data": {
      "text/plain": [
       "[('Pulp Fiction', 'Quentin Tarantino', 1994),\n",
       " ('Back to the Future', 'Steven Spielberg', 1985),\n",
       " ('Moonrise Kingdom', 'Wes Anderson', 2012)]"
      ]
     },
     "execution_count": 49,
     "metadata": {},
     "output_type": "execute_result"
    }
   ],
   "source": [
    "result_set"
   ]
  },
  {
   "cell_type": "code",
   "execution_count": 54,
   "id": "b5f63004",
   "metadata": {},
   "outputs": [
    {
     "data": {
      "text/plain": [
       "[('Back to the Future', 'Steven Spielberg', 1985)]"
      ]
     },
     "execution_count": 54,
     "metadata": {},
     "output_type": "execute_result"
    }
   ],
   "source": [
    "query = db.select([movies]).where(movies.columns.director == 'Steven Spielberg')\n",
    "result_proxy = connection.execute(query)\n",
    "result_set = result_proxy.fetchall()\n",
    "result_set"
   ]
  },
  {
   "cell_type": "code",
   "execution_count": 80,
   "id": "9900410c",
   "metadata": {},
   "outputs": [
    {
     "data": {
      "text/plain": [
       "<sqlalchemy.engine.cursor.LegacyCursorResult at 0x10d7b0a90>"
      ]
     },
     "execution_count": 80,
     "metadata": {},
     "output_type": "execute_result"
    }
   ],
   "source": [
    "query = movies.insert().values(title='Psycho', director='Alfred Hitchcock', year=1960)\n",
    "connection.execute(query)"
   ]
  },
  {
   "cell_type": "code",
   "execution_count": 81,
   "id": "44c08b07",
   "metadata": {},
   "outputs": [
    {
     "data": {
      "text/plain": [
       "[('Pulp Fiction', 'Quentin Tarantino', 1994),\n",
       " ('Back to the Future', 'Steven Spielberg', 1985),\n",
       " ('Moonrise Kingdom', 'Wes Anderson', 2012),\n",
       " ('Psycho', 'Alfred Hitchcock', 1960)]"
      ]
     },
     "execution_count": 81,
     "metadata": {},
     "output_type": "execute_result"
    }
   ],
   "source": [
    "query = db.select(movies)\n",
    "result_proxy = connection.execute(query)\n",
    "result_set = result_proxy.fetchall()\n",
    "result_set"
   ]
  },
  {
   "cell_type": "code",
   "execution_count": 82,
   "id": "bcb1c6a2",
   "metadata": {},
   "outputs": [
    {
     "data": {
      "text/plain": [
       "Column('director', TEXT(), table=<movies>)"
      ]
     },
     "execution_count": 82,
     "metadata": {},
     "output_type": "execute_result"
    }
   ],
   "source": [
    "movies.columns.director"
   ]
  },
  {
   "cell_type": "code",
   "execution_count": 86,
   "id": "f802d6e5",
   "metadata": {},
   "outputs": [
    {
     "data": {
      "text/plain": [
       "<sqlalchemy.engine.cursor.LegacyCursorResult at 0x10d70e2b0>"
      ]
     },
     "execution_count": 86,
     "metadata": {},
     "output_type": "execute_result"
    }
   ],
   "source": [
    "query = db.delete(movies).where(movies.columns.title == 'Psycho')\n",
    "connection.execute(query)\n"
   ]
  },
  {
   "cell_type": "code",
   "execution_count": 87,
   "id": "d39109d3",
   "metadata": {},
   "outputs": [
    {
     "data": {
      "text/plain": [
       "[('Pulp Fiction', 'Quentin Tarantino', 1994),\n",
       " ('Back to the Future', 'Steven Spielberg', 1985),\n",
       " ('Moonrise Kingdom', 'Wes Anderson', 2012)]"
      ]
     },
     "execution_count": 87,
     "metadata": {},
     "output_type": "execute_result"
    }
   ],
   "source": [
    "query = db.select(movies)\n",
    "result_proxy = connection.execute(query)\n",
    "result_set = result_proxy.fetchall()\n",
    "result_set"
   ]
  },
  {
   "cell_type": "code",
   "execution_count": 89,
   "id": "efd2883e",
   "metadata": {},
   "outputs": [
    {
     "data": {
      "text/plain": [
       "{}"
      ]
     },
     "execution_count": 89,
     "metadata": {},
     "output_type": "execute_result"
    }
   ],
   "source": [
    "metadata.info"
   ]
  },
  {
   "cell_type": "code",
   "execution_count": 6,
   "id": "fcc24bf3",
   "metadata": {},
   "outputs": [],
   "source": [
    "import sqlalchemy as db"
   ]
  },
  {
   "cell_type": "code",
   "execution_count": 8,
   "id": "09b6f419",
   "metadata": {},
   "outputs": [
    {
     "data": {
      "text/plain": [
       "sqlalchemy.sql.sqltypes.INTEGER"
      ]
     },
     "execution_count": 8,
     "metadata": {},
     "output_type": "execute_result"
    }
   ],
   "source": [
    "db.INTEGER"
   ]
  },
  {
   "cell_type": "code",
   "execution_count": 12,
   "id": "e4549fab",
   "metadata": {},
   "outputs": [],
   "source": [
    "from sqlalchemy import Column, Integer, String, Float, ForeignKey\n",
    "from sqlalchemy import create_engine\n",
    "from sqlalchemy.orm import sessionmaker, relationship\n",
    "from sqlalchemy.ext.declarative import declarative_base"
   ]
  },
  {
   "cell_type": "code",
   "execution_count": 13,
   "id": "6983dddd",
   "metadata": {},
   "outputs": [],
   "source": [
    "Base = declarative_base()"
   ]
  },
  {
   "cell_type": "code",
   "execution_count": 14,
   "id": "95ae695e",
   "metadata": {},
   "outputs": [],
   "source": [
    "class Purchase(Base):\n",
    "    __tablename__ = 'purchases'\n",
    "    __table_args__ = {'schema': 'landon'}\n",
    "\n",
    "    order_id = Column(Integer, primary_key=True)\n",
    "    property_id = Column(Integer)\n",
    "    property_city = Column(String(250))\n",
    "    property_state = Column(String(250))\n",
    "    product_id = Column(Integer)\n",
    "    product_category = Column(String(250))\n",
    "    product_name = Column(String(250))\n",
    "    quantity = Column(Integer)\n",
    "    product_price = Column(Float)\n",
    "    order_total = Column(Float)\n",
    "\n",
    "\n",
    "    def __repr__(self):\n",
    "        return ''"
   ]
  },
  {
   "cell_type": "code",
   "execution_count": 22,
   "id": "8c3c6f6f",
   "metadata": {},
   "outputs": [
    {
     "data": {
      "text/plain": [
       "['order_id',\n",
       " 'property_id',\n",
       " 'property_city',\n",
       " 'property_state',\n",
       " 'product_id',\n",
       " 'product_category',\n",
       " 'product_name',\n",
       " 'quantity',\n",
       " 'product_price',\n",
       " 'order_total']"
      ]
     },
     "execution_count": 22,
     "metadata": {},
     "output_type": "execute_result"
    }
   ],
   "source": [
    "purchase = Purchase()\n",
    "purchase.__table__.columns.keys()"
   ]
  },
  {
   "cell_type": "code",
   "execution_count": 26,
   "id": "efb0cb54",
   "metadata": {},
   "outputs": [
    {
     "data": {
      "text/plain": [
       "\"s='Hello'\""
      ]
     },
     "execution_count": 26,
     "metadata": {},
     "output_type": "execute_result"
    }
   ],
   "source": [
    "s = 'Hello'\n",
    "f's={repr(s)}'"
   ]
  },
  {
   "cell_type": "code",
   "execution_count": 6,
   "id": "b35b44ec",
   "metadata": {},
   "outputs": [],
   "source": [
    "def format_class_repr_dict(cls_name, **attrs):\n",
    "    s = ', '.join([f'{k}={repr(v)}' for k, v in attrs.items()])\n",
    "    return s\n",
    "    "
   ]
  },
  {
   "cell_type": "code",
   "execution_count": 7,
   "id": "79ba6439",
   "metadata": {},
   "outputs": [
    {
     "data": {
      "text/plain": [
       "\"order_id=1, property_id=2, property_city='UP'\""
      ]
     },
     "execution_count": 7,
     "metadata": {},
     "output_type": "execute_result"
    }
   ],
   "source": [
    "format_class_repr_dict('Purchase', order_id=1, property_id=2, property_city=\"UP\")\n"
   ]
  },
  {
   "cell_type": "code",
   "execution_count": 19,
   "id": "b8593e44",
   "metadata": {},
   "outputs": [
    {
     "data": {
      "text/plain": [
       "<psycopg2.extensions.ConnectionInfo at 0x10c7365f0>"
      ]
     },
     "execution_count": 19,
     "metadata": {},
     "output_type": "execute_result"
    }
   ],
   "source": [
    "import psycopg2\n",
    "\n",
    "conn = psycopg2.connect(host='localhost', user='postgres', password='', port='5432', database='red30')\n",
    "conn.info"
   ]
  },
  {
   "cell_type": "code",
   "execution_count": 30,
   "id": "8dc8eec2",
   "metadata": {},
   "outputs": [],
   "source": [
    "from functools import reduce"
   ]
  },
  {
   "cell_type": "code",
   "execution_count": 31,
   "id": "ade969a6",
   "metadata": {},
   "outputs": [],
   "source": [
    "def get_column_names(conn, table):\n",
    "    cur = conn.cursor()\n",
    "    cur.execute(f\"SELECT column_name FROM information_schema.columns WHERE table_schema='public' AND table_name='{table}'\")\n",
    "    cols = reduce(lambda x, y: x+y, cur.fetchall())\n",
    "    return cols"
   ]
  },
  {
   "cell_type": "code",
   "execution_count": 32,
   "id": "f5f35962",
   "metadata": {},
   "outputs": [],
   "source": [
    "cur = conn.cursor()\n",
    "cur.execute('SELECT * FROM sales LIMIT 10;')"
   ]
  },
  {
   "cell_type": "code",
   "execution_count": 33,
   "id": "a70d1faa",
   "metadata": {},
   "outputs": [
    {
     "data": {
      "text/plain": [
       "('order_num',\n",
       " 'order_type',\n",
       " 'cust_name',\n",
       " 'cust_state',\n",
       " 'prod_category',\n",
       " 'prod_number',\n",
       " 'prod_name',\n",
       " 'quantity',\n",
       " 'price',\n",
       " 'discount',\n",
       " 'order_total')"
      ]
     },
     "execution_count": 33,
     "metadata": {},
     "output_type": "execute_result"
    }
   ],
   "source": [
    "get_column_names(conn, 'sales')"
   ]
  },
  {
   "cell_type": "code",
   "execution_count": 22,
   "id": "48570380",
   "metadata": {},
   "outputs": [],
   "source": [
    "from sqlalchemy import create_engine, MetaData, Table, func as sqlfunc\n",
    "from sqlalchemy.orm import sessionmaker\n",
    "\n",
    "Session = sessionmaker()\n",
    "session = Session()"
   ]
  },
  {
   "cell_type": "code",
   "execution_count": 38,
   "id": "a2ee1e98",
   "metadata": {},
   "outputs": [],
   "source": [
    "DATABASE = 'red30'\n",
    "engine = create_engine(f'postgresql://postgres:@localhost:5432/{DATABASE}')\n",
    "\n",
    "conn = engine.connect()\n"
   ]
  },
  {
   "cell_type": "code",
   "execution_count": 39,
   "id": "10a544b9",
   "metadata": {},
   "outputs": [],
   "source": [
    "meta = MetaData(engine)\n",
    "\n",
    "sales_table = Table('sales', meta, autoload=True, autoload_with=engine)\n"
   ]
  },
  {
   "cell_type": "code",
   "execution_count": 40,
   "id": "9be987be",
   "metadata": {},
   "outputs": [
    {
     "data": {
      "text/plain": [
       "4977"
      ]
     },
     "execution_count": 40,
     "metadata": {},
     "output_type": "execute_result"
    }
   ],
   "source": [
    "session.query(sales_table).count()"
   ]
  },
  {
   "cell_type": "code",
   "execution_count": 41,
   "id": "3f701477",
   "metadata": {},
   "outputs": [
    {
     "data": {
      "text/plain": [
       "['order_num',\n",
       " 'order_type',\n",
       " 'cust_name',\n",
       " 'cust_state',\n",
       " 'prod_category',\n",
       " 'prod_number',\n",
       " 'prod_name',\n",
       " 'quantity',\n",
       " 'price',\n",
       " 'discount',\n",
       " 'order_total']"
      ]
     },
     "execution_count": 41,
     "metadata": {},
     "output_type": "execute_result"
    }
   ],
   "source": [
    "sales_table.columns.keys()"
   ]
  },
  {
   "cell_type": "code",
   "execution_count": 45,
   "id": "84bca413",
   "metadata": {},
   "outputs": [
    {
     "data": {
      "text/plain": [
       "(1105909, 'Retail', 'Gussi Strodder', 'New York', 'Drone Kits', 'DK204', 'BYOD-300', 1, 89.0, 0.0, 89.0)"
      ]
     },
     "execution_count": 45,
     "metadata": {},
     "output_type": "execute_result"
    }
   ],
   "source": [
    "row_count = session.query(sales_table).count()\n",
    "last_row = sales_table.select().offset(row_count-1)\n",
    "session.execute(last_row).first()"
   ]
  },
  {
   "cell_type": "code",
   "execution_count": 48,
   "id": "b9923feb",
   "metadata": {},
   "outputs": [
    {
     "data": {
      "text/plain": [
       "Column('order_num', INTEGER(), table=<sales>, primary_key=True, nullable=False)"
      ]
     },
     "execution_count": 48,
     "metadata": {},
     "output_type": "execute_result"
    }
   ],
   "source": [
    "sales_table.c.order_num"
   ]
  },
  {
   "cell_type": "code",
   "execution_count": 49,
   "id": "a8867b48",
   "metadata": {},
   "outputs": [
    {
     "data": {
      "text/plain": [
       "1105910"
      ]
     },
     "execution_count": 49,
     "metadata": {},
     "output_type": "execute_result"
    }
   ],
   "source": [
    "session.query(sqlfunc.max(sales_table.c.order_num)).scalar()"
   ]
  },
  {
   "cell_type": "code",
   "execution_count": 57,
   "id": "d61f4e2a",
   "metadata": {},
   "outputs": [
    {
     "data": {
      "text/plain": [
       "<sqlalchemy.engine.cursor.CursorResult at 0x10d0e4220>"
      ]
     },
     "execution_count": 57,
     "metadata": {},
     "output_type": "execute_result"
    }
   ],
   "source": [
    "delete_statement = sales_table.delete().where(sales_table.c.cust_name == 'Akshay Bhatia')\n",
    "session.execute(delete_statement)\n",
    "session.commit()"
   ]
  },
  {
   "cell_type": "code",
   "execution_count": 59,
   "id": "38f4e2ce",
   "metadata": {},
   "outputs": [],
   "source": [
    "import psycopg2\n",
    "DATABASE = 'red30'\n",
    "\n",
    "conn = psycopg2.connect(\n",
    "    database=DATABASE,\n",
    "    host='localhost',\n",
    "    user='postgres',\n",
    "    password='',\n",
    "    port='5432')"
   ]
  },
  {
   "cell_type": "code",
   "execution_count": 62,
   "id": "83c9b7d4",
   "metadata": {},
   "outputs": [
    {
     "data": {
      "text/plain": [
       "1105911"
      ]
     },
     "execution_count": 62,
     "metadata": {},
     "output_type": "execute_result"
    }
   ],
   "source": [
    "cur = conn.cursor()\n",
    "cur.execute('SELECT max(order_num) FROM sales')\n",
    "cur.fetchone()[0]"
   ]
  },
  {
   "cell_type": "code",
   "execution_count": 63,
   "id": "a9d6c209",
   "metadata": {},
   "outputs": [
    {
     "data": {
      "text/plain": [
       "False"
      ]
     },
     "execution_count": 63,
     "metadata": {},
     "output_type": "execute_result"
    }
   ],
   "source": [
    "conn.autocommit"
   ]
  }
 ],
 "metadata": {
  "kernelspec": {
   "display_name": "venv",
   "language": "python",
   "name": "venv"
  },
  "language_info": {
   "codemirror_mode": {
    "name": "ipython",
    "version": 3
   },
   "file_extension": ".py",
   "mimetype": "text/x-python",
   "name": "python",
   "nbconvert_exporter": "python",
   "pygments_lexer": "ipython3",
   "version": "3.9.7"
  }
 },
 "nbformat": 4,
 "nbformat_minor": 5
}
