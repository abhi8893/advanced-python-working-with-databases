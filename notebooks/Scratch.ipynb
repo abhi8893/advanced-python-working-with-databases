{
 "cells": [
  {
   "cell_type": "code",
   "execution_count": 1,
   "id": "4638d87b",
   "metadata": {},
   "outputs": [
    {
     "data": {
      "text/plain": [
       "'3.9.7 | packaged by conda-forge | (default, Sep 29 2021, 19:24:02) \\n[Clang 11.1.0 ]'"
      ]
     },
     "execution_count": 1,
     "metadata": {},
     "output_type": "execute_result"
    }
   ],
   "source": [
    "import sys\n",
    "sys.version"
   ]
  },
  {
   "cell_type": "code",
   "execution_count": 2,
   "id": "1eff4306",
   "metadata": {},
   "outputs": [],
   "source": [
    "import sqlite3\n",
    "\n",
    "connection = sqlite3.connect('../data/movies.db')\n",
    "cursor = connection.cursor()"
   ]
  },
  {
   "cell_type": "code",
   "execution_count": 4,
   "id": "957c7175",
   "metadata": {},
   "outputs": [
    {
     "name": "stdout",
     "output_type": "stream",
     "text": [
      "('Pulp Fiction', 'Quentin Tarantino', 1994)\n",
      "('Back to the Future', 'Steven Spielberg', 1985)\n",
      "('Moonrise Kingdom', 'Wes Anderson', 2012)\n"
     ]
    }
   ],
   "source": [
    "records = cursor.execute('SELECT * FROM movies;')\n",
    "for record in records:\n",
    "    print(record)"
   ]
  },
  {
   "cell_type": "code",
   "execution_count": 6,
   "id": "e055f24d",
   "metadata": {},
   "outputs": [
    {
     "data": {
      "text/plain": [
       "[('Pulp Fiction', 'Quentin Tarantino', 1994),\n",
       " ('Back to the Future', 'Steven Spielberg', 1985),\n",
       " ('Moonrise Kingdom', 'Wes Anderson', 2012)]"
      ]
     },
     "execution_count": 6,
     "metadata": {},
     "output_type": "execute_result"
    }
   ],
   "source": [
    "cursor.execute('SELECT * FROM movies;')\n",
    "cursor.fetchall()"
   ]
  },
  {
   "cell_type": "code",
   "execution_count": 8,
   "id": "8ff0b528",
   "metadata": {},
   "outputs": [
    {
     "data": {
      "text/plain": [
       "[('Back to the Future', 'Steven Spielberg', 1985)]"
      ]
     },
     "execution_count": 8,
     "metadata": {},
     "output_type": "execute_result"
    }
   ],
   "source": [
    "cursor.execute('SELECT * FROM movies WHERE title LIKE \"B%\"')\n",
    "cursor.fetchall()"
   ]
  },
  {
   "cell_type": "code",
   "execution_count": 37,
   "id": "d0f1b3e2",
   "metadata": {},
   "outputs": [],
   "source": [
    "import sqlalchemy as db\n",
    "from pathlib import Path\n",
    "\n",
    "db_path = Path(os.path.abspath('.')).parents[0].absolute().joinpath('data/movies.db')\n",
    "engine = db.create_engine(f'sqlite:///{db_path}')\n",
    "connection = engine.connect()"
   ]
  },
  {
   "cell_type": "code",
   "execution_count": 42,
   "id": "3db54bc4",
   "metadata": {},
   "outputs": [],
   "source": [
    "metadata = db.MetaData()\n",
    "movies = db.Table('movies', metadata, autoload=True, autoload_with=engine)"
   ]
  },
  {
   "cell_type": "code",
   "execution_count": 43,
   "id": "e7412cdf",
   "metadata": {},
   "outputs": [
    {
     "data": {
      "text/plain": [
       "MetaData()"
      ]
     },
     "execution_count": 43,
     "metadata": {},
     "output_type": "execute_result"
    }
   ],
   "source": [
    "metadata"
   ]
  },
  {
   "cell_type": "code",
   "execution_count": 44,
   "id": "d53aeb40",
   "metadata": {},
   "outputs": [
    {
     "data": {
      "text/plain": [
       "Table('movies', MetaData(), Column('title', TEXT(), table=<movies>), Column('director', TEXT(), table=<movies>), Column('year', INTEGER(), table=<movies>), schema=None)"
      ]
     },
     "execution_count": 44,
     "metadata": {},
     "output_type": "execute_result"
    }
   ],
   "source": [
    "movies"
   ]
  },
  {
   "cell_type": "code",
   "execution_count": 45,
   "id": "1ffc62f8",
   "metadata": {},
   "outputs": [],
   "source": [
    "query = db.select([movies])"
   ]
  },
  {
   "cell_type": "code",
   "execution_count": 48,
   "id": "19577d9c",
   "metadata": {},
   "outputs": [],
   "source": [
    "result_proxy = connection.execute(query)\n",
    "result_set = result_proxy.fetchall()"
   ]
  },
  {
   "cell_type": "code",
   "execution_count": 49,
   "id": "a5f3df3d",
   "metadata": {},
   "outputs": [
    {
     "data": {
      "text/plain": [
       "[('Pulp Fiction', 'Quentin Tarantino', 1994),\n",
       " ('Back to the Future', 'Steven Spielberg', 1985),\n",
       " ('Moonrise Kingdom', 'Wes Anderson', 2012)]"
      ]
     },
     "execution_count": 49,
     "metadata": {},
     "output_type": "execute_result"
    }
   ],
   "source": [
    "result_set"
   ]
  },
  {
   "cell_type": "code",
   "execution_count": 54,
   "id": "b5f63004",
   "metadata": {},
   "outputs": [
    {
     "data": {
      "text/plain": [
       "[('Back to the Future', 'Steven Spielberg', 1985)]"
      ]
     },
     "execution_count": 54,
     "metadata": {},
     "output_type": "execute_result"
    }
   ],
   "source": [
    "query = db.select([movies]).where(movies.columns.director == 'Steven Spielberg')\n",
    "result_proxy = connection.execute(query)\n",
    "result_set = result_proxy.fetchall()\n",
    "result_set"
   ]
  },
  {
   "cell_type": "code",
   "execution_count": 80,
   "id": "9900410c",
   "metadata": {},
   "outputs": [
    {
     "data": {
      "text/plain": [
       "<sqlalchemy.engine.cursor.LegacyCursorResult at 0x10d7b0a90>"
      ]
     },
     "execution_count": 80,
     "metadata": {},
     "output_type": "execute_result"
    }
   ],
   "source": [
    "query = movies.insert().values(title='Psycho', director='Alfred Hitchcock', year=1960)\n",
    "connection.execute(query)"
   ]
  },
  {
   "cell_type": "code",
   "execution_count": 81,
   "id": "44c08b07",
   "metadata": {},
   "outputs": [
    {
     "data": {
      "text/plain": [
       "[('Pulp Fiction', 'Quentin Tarantino', 1994),\n",
       " ('Back to the Future', 'Steven Spielberg', 1985),\n",
       " ('Moonrise Kingdom', 'Wes Anderson', 2012),\n",
       " ('Psycho', 'Alfred Hitchcock', 1960)]"
      ]
     },
     "execution_count": 81,
     "metadata": {},
     "output_type": "execute_result"
    }
   ],
   "source": [
    "query = db.select(movies)\n",
    "result_proxy = connection.execute(query)\n",
    "result_set = result_proxy.fetchall()\n",
    "result_set"
   ]
  },
  {
   "cell_type": "code",
   "execution_count": 82,
   "id": "bcb1c6a2",
   "metadata": {},
   "outputs": [
    {
     "data": {
      "text/plain": [
       "Column('director', TEXT(), table=<movies>)"
      ]
     },
     "execution_count": 82,
     "metadata": {},
     "output_type": "execute_result"
    }
   ],
   "source": [
    "movies.columns.director"
   ]
  },
  {
   "cell_type": "code",
   "execution_count": 86,
   "id": "f802d6e5",
   "metadata": {},
   "outputs": [
    {
     "data": {
      "text/plain": [
       "<sqlalchemy.engine.cursor.LegacyCursorResult at 0x10d70e2b0>"
      ]
     },
     "execution_count": 86,
     "metadata": {},
     "output_type": "execute_result"
    }
   ],
   "source": [
    "query = db.delete(movies).where(movies.columns.title == 'Psycho')\n",
    "connection.execute(query)\n"
   ]
  },
  {
   "cell_type": "code",
   "execution_count": 87,
   "id": "d39109d3",
   "metadata": {},
   "outputs": [
    {
     "data": {
      "text/plain": [
       "[('Pulp Fiction', 'Quentin Tarantino', 1994),\n",
       " ('Back to the Future', 'Steven Spielberg', 1985),\n",
       " ('Moonrise Kingdom', 'Wes Anderson', 2012)]"
      ]
     },
     "execution_count": 87,
     "metadata": {},
     "output_type": "execute_result"
    }
   ],
   "source": [
    "query = db.select(movies)\n",
    "result_proxy = connection.execute(query)\n",
    "result_set = result_proxy.fetchall()\n",
    "result_set"
   ]
  },
  {
   "cell_type": "code",
   "execution_count": 89,
   "id": "efd2883e",
   "metadata": {},
   "outputs": [
    {
     "data": {
      "text/plain": [
       "{}"
      ]
     },
     "execution_count": 89,
     "metadata": {},
     "output_type": "execute_result"
    }
   ],
   "source": [
    "metadata.info"
   ]
  },
  {
   "cell_type": "code",
   "execution_count": 6,
   "id": "fcc24bf3",
   "metadata": {},
   "outputs": [],
   "source": [
    "import sqlalchemy as db"
   ]
  },
  {
   "cell_type": "code",
   "execution_count": 8,
   "id": "09b6f419",
   "metadata": {},
   "outputs": [
    {
     "data": {
      "text/plain": [
       "sqlalchemy.sql.sqltypes.INTEGER"
      ]
     },
     "execution_count": 8,
     "metadata": {},
     "output_type": "execute_result"
    }
   ],
   "source": [
    "db.INTEGER"
   ]
  },
  {
   "cell_type": "code",
   "execution_count": 12,
   "id": "e4549fab",
   "metadata": {},
   "outputs": [],
   "source": [
    "from sqlalchemy import Column, Integer, String, Float, ForeignKey\n",
    "from sqlalchemy import create_engine\n",
    "from sqlalchemy.orm import sessionmaker, relationship\n",
    "from sqlalchemy.ext.declarative import declarative_base"
   ]
  },
  {
   "cell_type": "code",
   "execution_count": 13,
   "id": "6983dddd",
   "metadata": {},
   "outputs": [],
   "source": [
    "Base = declarative_base()"
   ]
  },
  {
   "cell_type": "code",
   "execution_count": 14,
   "id": "95ae695e",
   "metadata": {},
   "outputs": [],
   "source": [
    "class Purchase(Base):\n",
    "    __tablename__ = 'purchases'\n",
    "    __table_args__ = {'schema': 'landon'}\n",
    "\n",
    "    order_id = Column(Integer, primary_key=True)\n",
    "    property_id = Column(Integer)\n",
    "    property_city = Column(String(250))\n",
    "    property_state = Column(String(250))\n",
    "    product_id = Column(Integer)\n",
    "    product_category = Column(String(250))\n",
    "    product_name = Column(String(250))\n",
    "    quantity = Column(Integer)\n",
    "    product_price = Column(Float)\n",
    "    order_total = Column(Float)\n",
    "\n",
    "\n",
    "    def __repr__(self):\n",
    "        return ''"
   ]
  },
  {
   "cell_type": "code",
   "execution_count": 22,
   "id": "8c3c6f6f",
   "metadata": {},
   "outputs": [
    {
     "data": {
      "text/plain": [
       "['order_id',\n",
       " 'property_id',\n",
       " 'property_city',\n",
       " 'property_state',\n",
       " 'product_id',\n",
       " 'product_category',\n",
       " 'product_name',\n",
       " 'quantity',\n",
       " 'product_price',\n",
       " 'order_total']"
      ]
     },
     "execution_count": 22,
     "metadata": {},
     "output_type": "execute_result"
    }
   ],
   "source": [
    "purchase = Purchase()\n",
    "purchase.__table__.columns.keys()"
   ]
  },
  {
   "cell_type": "code",
   "execution_count": 26,
   "id": "efb0cb54",
   "metadata": {},
   "outputs": [
    {
     "data": {
      "text/plain": [
       "\"s='Hello'\""
      ]
     },
     "execution_count": 26,
     "metadata": {},
     "output_type": "execute_result"
    }
   ],
   "source": [
    "s = 'Hello'\n",
    "f's={repr(s)}'"
   ]
  },
  {
   "cell_type": "code",
   "execution_count": 6,
   "id": "b35b44ec",
   "metadata": {},
   "outputs": [],
   "source": [
    "def format_class_repr_dict(cls_name, **attrs):\n",
    "    s = ', '.join([f'{k}={repr(v)}' for k, v in attrs.items()])\n",
    "    return s\n",
    "    "
   ]
  },
  {
   "cell_type": "code",
   "execution_count": 7,
   "id": "79ba6439",
   "metadata": {},
   "outputs": [
    {
     "data": {
      "text/plain": [
       "\"order_id=1, property_id=2, property_city='UP'\""
      ]
     },
     "execution_count": 7,
     "metadata": {},
     "output_type": "execute_result"
    }
   ],
   "source": [
    "format_class_repr_dict('Purchase', order_id=1, property_id=2, property_city=\"UP\")\n"
   ]
  },
  {
   "cell_type": "code",
   "execution_count": 19,
   "id": "b8593e44",
   "metadata": {},
   "outputs": [
    {
     "data": {
      "text/plain": [
       "<psycopg2.extensions.ConnectionInfo at 0x10c7365f0>"
      ]
     },
     "execution_count": 19,
     "metadata": {},
     "output_type": "execute_result"
    }
   ],
   "source": [
    "import psycopg2\n",
    "\n",
    "conn = psycopg2.connect(host='localhost', user='postgres', password='', port='5432', database='red30')\n",
    "conn.info"
   ]
  },
  {
   "cell_type": "code",
   "execution_count": 30,
   "id": "8dc8eec2",
   "metadata": {},
   "outputs": [],
   "source": [
    "from functools import reduce"
   ]
  },
  {
   "cell_type": "code",
   "execution_count": 31,
   "id": "ade969a6",
   "metadata": {},
   "outputs": [],
   "source": [
    "def get_column_names(conn, table):\n",
    "    cur = conn.cursor()\n",
    "    cur.execute(f\"SELECT column_name FROM information_schema.columns WHERE table_schema='public' AND table_name='{table}'\")\n",
    "    cols = reduce(lambda x, y: x+y, cur.fetchall())\n",
    "    return cols"
   ]
  },
  {
   "cell_type": "code",
   "execution_count": 32,
   "id": "f5f35962",
   "metadata": {},
   "outputs": [],
   "source": [
    "cur = conn.cursor()\n",
    "cur.execute('SELECT * FROM sales LIMIT 10;')"
   ]
  },
  {
   "cell_type": "code",
   "execution_count": 33,
   "id": "a70d1faa",
   "metadata": {},
   "outputs": [
    {
     "data": {
      "text/plain": [
       "('order_num',\n",
       " 'order_type',\n",
       " 'cust_name',\n",
       " 'cust_state',\n",
       " 'prod_category',\n",
       " 'prod_number',\n",
       " 'prod_name',\n",
       " 'quantity',\n",
       " 'price',\n",
       " 'discount',\n",
       " 'order_total')"
      ]
     },
     "execution_count": 33,
     "metadata": {},
     "output_type": "execute_result"
    }
   ],
   "source": [
    "get_column_names(conn, 'sales')"
   ]
  },
  {
   "cell_type": "code",
   "execution_count": 22,
   "id": "48570380",
   "metadata": {},
   "outputs": [],
   "source": [
    "from sqlalchemy import create_engine, MetaData, Table, func as sqlfunc\n",
    "from sqlalchemy.orm import sessionmaker\n",
    "\n",
    "Session = sessionmaker()\n",
    "session = Session()"
   ]
  },
  {
   "cell_type": "code",
   "execution_count": 38,
   "id": "a2ee1e98",
   "metadata": {},
   "outputs": [],
   "source": [
    "DATABASE = 'red30'\n",
    "engine = create_engine(f'postgresql://postgres:@localhost:5432/{DATABASE}')\n",
    "\n",
    "conn = engine.connect()\n"
   ]
  },
  {
   "cell_type": "code",
   "execution_count": 39,
   "id": "10a544b9",
   "metadata": {},
   "outputs": [],
   "source": [
    "meta = MetaData(engine)\n",
    "\n",
    "sales_table = Table('sales', meta, autoload=True, autoload_with=engine)\n"
   ]
  },
  {
   "cell_type": "code",
   "execution_count": 40,
   "id": "9be987be",
   "metadata": {},
   "outputs": [
    {
     "data": {
      "text/plain": [
       "4977"
      ]
     },
     "execution_count": 40,
     "metadata": {},
     "output_type": "execute_result"
    }
   ],
   "source": [
    "session.query(sales_table).count()"
   ]
  },
  {
   "cell_type": "code",
   "execution_count": 41,
   "id": "3f701477",
   "metadata": {},
   "outputs": [
    {
     "data": {
      "text/plain": [
       "['order_num',\n",
       " 'order_type',\n",
       " 'cust_name',\n",
       " 'cust_state',\n",
       " 'prod_category',\n",
       " 'prod_number',\n",
       " 'prod_name',\n",
       " 'quantity',\n",
       " 'price',\n",
       " 'discount',\n",
       " 'order_total']"
      ]
     },
     "execution_count": 41,
     "metadata": {},
     "output_type": "execute_result"
    }
   ],
   "source": [
    "sales_table.columns.keys()"
   ]
  },
  {
   "cell_type": "code",
   "execution_count": 45,
   "id": "84bca413",
   "metadata": {},
   "outputs": [
    {
     "data": {
      "text/plain": [
       "(1105909, 'Retail', 'Gussi Strodder', 'New York', 'Drone Kits', 'DK204', 'BYOD-300', 1, 89.0, 0.0, 89.0)"
      ]
     },
     "execution_count": 45,
     "metadata": {},
     "output_type": "execute_result"
    }
   ],
   "source": [
    "row_count = session.query(sales_table).count()\n",
    "last_row = sales_table.select().offset(row_count-1)\n",
    "session.execute(last_row).first()"
   ]
  },
  {
   "cell_type": "code",
   "execution_count": 48,
   "id": "b9923feb",
   "metadata": {},
   "outputs": [
    {
     "data": {
      "text/plain": [
       "Column('order_num', INTEGER(), table=<sales>, primary_key=True, nullable=False)"
      ]
     },
     "execution_count": 48,
     "metadata": {},
     "output_type": "execute_result"
    }
   ],
   "source": [
    "sales_table.c.order_num"
   ]
  },
  {
   "cell_type": "code",
   "execution_count": 49,
   "id": "a8867b48",
   "metadata": {},
   "outputs": [
    {
     "data": {
      "text/plain": [
       "1105910"
      ]
     },
     "execution_count": 49,
     "metadata": {},
     "output_type": "execute_result"
    }
   ],
   "source": [
    "session.query(sqlfunc.max(sales_table.c.order_num)).scalar()"
   ]
  },
  {
   "cell_type": "code",
   "execution_count": 57,
   "id": "d61f4e2a",
   "metadata": {},
   "outputs": [
    {
     "data": {
      "text/plain": [
       "<sqlalchemy.engine.cursor.CursorResult at 0x10d0e4220>"
      ]
     },
     "execution_count": 57,
     "metadata": {},
     "output_type": "execute_result"
    }
   ],
   "source": [
    "delete_statement = sales_table.delete().where(sales_table.c.cust_name == 'Akshay Bhatia')\n",
    "session.execute(delete_statement)\n",
    "session.commit()"
   ]
  },
  {
   "cell_type": "code",
   "execution_count": 59,
   "id": "93c9d918",
   "metadata": {},
   "outputs": [],
   "source": [
    "import psycopg2\n",
    "DATABASE = 'red30'\n",
    "\n",
    "conn = psycopg2.connect(\n",
    "    database=DATABASE,\n",
    "    host='localhost',\n",
    "    user='postgres',\n",
    "    password='',\n",
    "    port='5432')"
   ]
  },
  {
   "cell_type": "code",
   "execution_count": 62,
   "id": "c0b53a7b",
   "metadata": {},
   "outputs": [
    {
     "data": {
      "text/plain": [
       "1105911"
      ]
     },
     "execution_count": 62,
     "metadata": {},
     "output_type": "execute_result"
    }
   ],
   "source": [
    "cur = conn.cursor()\n",
    "cur.execute('SELECT max(order_num) FROM sales')\n",
    "cur.fetchone()[0]"
   ]
  },
  {
   "cell_type": "code",
   "execution_count": 63,
   "id": "80b4adbc",
   "metadata": {},
   "outputs": [
    {
     "data": {
      "text/plain": [
       "False"
      ]
     },
     "execution_count": 63,
     "metadata": {},
     "output_type": "execute_result"
    }
   ],
   "source": [
    "conn.autocommit"
   ]
  },
  {
   "cell_type": "code",
   "execution_count": 82,
   "id": "99546ba4",
   "metadata": {},
   "outputs": [],
   "source": [
    "import pandas as pd\n",
    "\n",
    "seq_large = list(range(1, 101))\n",
    "seq_small = list(range(20, 25))\n",
    "nlarge = len(seq_large)\n",
    "nsmall = len(seq_small)"
   ]
  },
  {
   "cell_type": "code",
   "execution_count": 83,
   "id": "2fd40084",
   "metadata": {},
   "outputs": [],
   "source": [
    "def is_subsequence(seq_small, seq_large):\n",
    "\n",
    "    for i in range(nlarge - nsmall +1):\n",
    "        mismatch = False\n",
    "        for j in range(nsmall):\n",
    "            if seq_large[i+j] != seq_small[j]:\n",
    "                mismatch = True\n",
    "                break\n",
    "\n",
    "        if not mismatch:\n",
    "            return True\n",
    "        \n",
    "    return False\n",
    "        \n",
    "    "
   ]
  },
  {
   "cell_type": "code",
   "execution_count": 84,
   "id": "02eb52c2",
   "metadata": {},
   "outputs": [
    {
     "data": {
      "text/plain": [
       "True"
      ]
     },
     "execution_count": 84,
     "metadata": {},
     "output_type": "execute_result"
    }
   ],
   "source": [
    "is_subsequence(seq_small, seq_large)"
   ]
  },
  {
   "cell_type": "code",
   "execution_count": 107,
   "id": "58d46c01",
   "metadata": {},
   "outputs": [
    {
     "data": {
      "text/plain": [
       "0     1\n",
       "1     1\n",
       "2     1\n",
       "3     2\n",
       "4     2\n",
       "5     2\n",
       "6     5\n",
       "7     5\n",
       "8     5\n",
       "9     5\n",
       "10    5\n",
       "11    7\n",
       "12    7\n",
       "13    7\n",
       "Name: 0, dtype: int64"
      ]
     },
     "execution_count": 107,
     "metadata": {},
     "output_type": "execute_result"
    }
   ],
   "source": [
    "ser1 = pd.RangeIndex(1, 11).to_series()\n",
    "ser2 = pd.Series([5, 5, 5, 5, 2, 2, 1, 7, 1, 7, 5, 1, 7, 2])\n",
    "\n",
    "\n",
    "ordered = ser1[ser1.isin(ser2)].reset_index(drop=True)\n",
    "ordered\n",
    "\n",
    "pd.DataFrame(ordered).merge(pd.DataFrame(ser2), how='left').loc[:, 0]"
   ]
  },
  {
   "cell_type": "code",
   "execution_count": 1,
   "id": "378640d9",
   "metadata": {},
   "outputs": [],
   "source": [
    "from collections import namedtuple"
   ]
  },
  {
   "cell_type": "code",
   "execution_count": 4,
   "id": "91c2a0d2",
   "metadata": {},
   "outputs": [
    {
     "data": {
      "text/plain": [
       "__main__.book"
      ]
     },
     "execution_count": 4,
     "metadata": {},
     "output_type": "execute_result"
    }
   ],
   "source": [
    "book = namedtuple('book', ['title', 'num_pages'])\n",
    "book"
   ]
  },
  {
   "cell_type": "code",
   "execution_count": 9,
   "id": "a4bf09b7",
   "metadata": {},
   "outputs": [
    {
     "data": {
      "text/plain": [
       "'1'"
      ]
     },
     "execution_count": 9,
     "metadata": {},
     "output_type": "execute_result"
    }
   ],
   "source": [
    "s = '{}'.format(1)\n",
    "s"
   ]
  },
  {
   "cell_type": "code",
   "execution_count": 5,
   "id": "81d7c871",
   "metadata": {},
   "outputs": [
    {
     "data": {
      "text/plain": [
       "('1',)"
      ]
     },
     "execution_count": 5,
     "metadata": {},
     "output_type": "execute_result"
    }
   ],
   "source": [
    "d = {'1': 'a'}\n",
    "tuple(d)"
   ]
  },
  {
   "cell_type": "code",
   "execution_count": 10,
   "id": "c889bf27",
   "metadata": {},
   "outputs": [],
   "source": [
    "from sqlalchemy import Table, Column, Integer, String, MetaData\n",
    "from sqlalchemy import create_engine\n",
    "\n",
    "DATABASE = 'books'\n",
    "engine = create_engine(f'postgresql://postgres:@localhost:5432/{DATABASE}')\n",
    "\n",
    "meta = MetaData()"
   ]
  },
  {
   "cell_type": "code",
   "execution_count": 12,
   "id": "1e017a3f",
   "metadata": {},
   "outputs": [],
   "source": [
    "meta.drop_all(engine)"
   ]
  },
  {
   "cell_type": "code",
   "execution_count": 13,
   "id": "5984f07e",
   "metadata": {},
   "outputs": [],
   "source": [
    "from sqlalchemy import Table, Column, Integer, String, MetaData\n",
    "from sqlalchemy.sql.schema import ForeignKey\n",
    "from sqlalchemy import create_engine\n",
    "\n",
    "DATABASE = 'books'\n",
    "engine = create_engine(f'postgresql://postgres:@localhost:5432/{DATABASE}')\n",
    "meta = MetaData()\n",
    "\n",
    "# Create books table\n",
    "books = Table(\n",
    "    'books',\n",
    "    meta,\n",
    "    Column('id', Integer, primary_key=True),\n",
    "    Column('title', String),\n",
    "    Column('num_pages', Integer)\n",
    ")\n",
    "\n",
    "# Create authors table\n",
    "authors = Table(\n",
    "    'authors',\n",
    "    meta,\n",
    "    Column('id', Integer, primary_key=True),\n",
    "    Column('first_name', String),\n",
    "    Column('last_name', String)\n",
    ")\n",
    "\n",
    "\n",
    "\n",
    "# Create author_books table\n",
    "author_books = Table(\n",
    "    'author_books',\n",
    "    meta,\n",
    "    Column('id', Integer, primary_key=True),\n",
    "    Column('author_id', Integer, ForeignKey('authors.id')),\n",
    "    Column('book_id', Integer, ForeignKey('books.id'))\n",
    ")"
   ]
  },
  {
   "cell_type": "code",
   "execution_count": 29,
   "id": "2948b3b5",
   "metadata": {},
   "outputs": [],
   "source": [
    "conn = engine.connect()"
   ]
  },
  {
   "cell_type": "code",
   "execution_count": 41,
   "id": "070cd8d4",
   "metadata": {},
   "outputs": [],
   "source": [
    "title = 'Harry Potter 1'\n",
    "num_pages = 500"
   ]
  },
  {
   "cell_type": "code",
   "execution_count": 42,
   "id": "3f006f4a",
   "metadata": {},
   "outputs": [],
   "source": [
    "r = conn.execute(books.insert().values(title='Harry Potter 1', num_pages=500))"
   ]
  },
  {
   "cell_type": "code",
   "execution_count": 43,
   "id": "95a29fb1",
   "metadata": {},
   "outputs": [],
   "source": [
    "existing_book = conn.execute(\n",
    "    books.select().where(\n",
    "        (books.c.title == title) &\n",
    "        (books.c.num_pages == num_pages)\n",
    "    ))"
   ]
  },
  {
   "cell_type": "code",
   "execution_count": 73,
   "id": "075f629e",
   "metadata": {},
   "outputs": [
    {
     "data": {
      "text/plain": [
       "RMKeyView(['id', 'title', 'num_pages'])"
      ]
     },
     "execution_count": 73,
     "metadata": {},
     "output_type": "execute_result"
    }
   ],
   "source": [
    "existing_book.keys()"
   ]
  },
  {
   "cell_type": "code",
   "execution_count": 53,
   "id": "983209d9",
   "metadata": {},
   "outputs": [
    {
     "data": {
      "text/plain": [
       "{'id': 2, 'title': 'Harry Potter 1', 'num_pages': 500}"
      ]
     },
     "execution_count": 53,
     "metadata": {},
     "output_type": "execute_result"
    }
   ],
   "source": [
    "dict(zip(existing_book.keys(), existing_book.fetchone()))"
   ]
  },
  {
   "cell_type": "code",
   "execution_count": 38,
   "id": "a2a650a3",
   "metadata": {},
   "outputs": [
    {
     "data": {
      "text/plain": [
       "3"
      ]
     },
     "execution_count": 38,
     "metadata": {},
     "output_type": "execute_result"
    }
   ],
   "source": [
    "r.inserted_primary_key[0]"
   ]
  },
  {
   "cell_type": "code",
   "execution_count": 31,
   "id": "9dc1d5a1",
   "metadata": {},
   "outputs": [
    {
     "data": {
      "text/plain": [
       "[(1, 'Harry Potter 1', 500), (2, 'Harry Potter 1', 500)]"
      ]
     },
     "execution_count": 31,
     "metadata": {},
     "output_type": "execute_result"
    }
   ],
   "source": [
    "conn.execute(books.select()).fetchall()"
   ]
  },
  {
   "cell_type": "code",
   "execution_count": 28,
   "id": "1e359054",
   "metadata": {},
   "outputs": [],
   "source": [
    "conn.execute(books.select().where((books.c.title == 'Harry Potter') & (books.c.num_pages == 500))).fetchone()"
   ]
  },
  {
   "cell_type": "code",
   "execution_count": 54,
   "id": "d366a16e",
   "metadata": {},
   "outputs": [],
   "source": [
    "conn.close()"
   ]
  },
  {
   "cell_type": "code",
   "execution_count": 1,
   "id": "b32d3c0f",
   "metadata": {},
   "outputs": [
    {
     "name": "stderr",
     "output_type": "stream",
     "text": [
      "/Users/abhi/Documents/coding/advanced-python-working-with-databases/venv/lib/python3.9/site-packages/flask_sqlalchemy/__init__.py:872: FSADeprecationWarning: SQLALCHEMY_TRACK_MODIFICATIONS adds significant overhead and will be disabled by default in the future.  Set it to True or False to suppress this warning.\n",
      "  warnings.warn(FSADeprecationWarning(\n"
     ]
    }
   ],
   "source": [
    "from flask import Flask, render_template\n",
    "from flask_sqlalchemy import SQLAlchemy\n",
    "\n",
    "app = Flask(__name__)\n",
    "app.config['SQLALCHEMY_DATABASE_URI'] = 'postgresql://postgres:@localhost:5432/project_tracker'\n",
    "app.config['SECRET_KEY'] = '\\x9dA$\\xbd\\x13\\xee`\\xa8\\x9cg\\x8c\\n\\xc3\\x04\\xa6t^\\xfc\\x9c\\xb3\\x13cJ'\n",
    "\n",
    "db = SQLAlchemy(app)\n",
    "\n",
    "class Project(db.Model):\n",
    "    __tablename__ = 'projects'\n",
    "\n",
    "    id = db.Column(db.Integer, primary_key=True)\n",
    "    title = db.Column(db.String(length=50))\n",
    "\n",
    "class Task(db.Model):\n",
    "    __tablename__ = 'tasks'\n",
    "\n",
    "    id = db.Column(db.Integer, primary_key=True)\n",
    "    description = db.Column(db.String(length=255))\n",
    "\n",
    "\n",
    "class ProjectTask(db.Model):\n",
    "    __tablename__ = 'project_tasks'\n",
    "\n",
    "    id = db.Column(db.Integer, primary_key=True)\n",
    "    project_id = db.Column(db.Integer, db.ForeignKey('projects.id'))\n",
    "    task_id = db.Column(db.Integer, db.ForeignKey('tasks.id'))"
   ]
  },
  {
   "cell_type": "code",
   "execution_count": 2,
   "id": "6ee9078a",
   "metadata": {},
   "outputs": [
    {
     "data": {
      "text/plain": [
       "'Learn Kedro!'"
      ]
     },
     "execution_count": 2,
     "metadata": {},
     "output_type": "execute_result"
    }
   ],
   "source": [
    "p = Project.query.all()[0]\n",
    "p.title"
   ]
  },
  {
   "cell_type": "code",
   "execution_count": 3,
   "id": "8b610e5e",
   "metadata": {},
   "outputs": [],
   "source": [
    "project = Project.query.where(Project.id == 1).first()\n",
    "tasks = Task.query.where()"
   ]
  },
  {
   "cell_type": "code",
   "execution_count": 25,
   "id": "c663eec2",
   "metadata": {},
   "outputs": [],
   "source": [
    "existing_project = Project.query.filter(Project.title == \"Learn Kedro\").first()\n",
    "existing_project"
   ]
  },
  {
   "cell_type": "code",
   "execution_count": 4,
   "id": "1b088a15",
   "metadata": {},
   "outputs": [
    {
     "data": {
      "text/plain": [
       "[]"
      ]
     },
     "execution_count": 4,
     "metadata": {},
     "output_type": "execute_result"
    }
   ],
   "source": [
    "tasks = Task.query.join(ProjectTask, \n",
    "                        (Task.id == ProjectTask.task_id) & \n",
    "                        (ProjectTask.project_id == 3)).all()\n",
    "tasks"
   ]
  },
  {
   "cell_type": "code",
   "execution_count": null,
   "id": "b79d9e99",
   "metadata": {},
   "outputs": [],
   "source": []
  }
 ],
 "metadata": {
  "kernelspec": {
   "display_name": "venv",
   "language": "python",
   "name": "venv"
  },
  "language_info": {
   "codemirror_mode": {
    "name": "ipython",
    "version": 3
   },
   "file_extension": ".py",
   "mimetype": "text/x-python",
   "name": "python",
   "nbconvert_exporter": "python",
   "pygments_lexer": "ipython3",
   "version": "3.9.7"
  }
 },
 "nbformat": 4,
 "nbformat_minor": 5
}
